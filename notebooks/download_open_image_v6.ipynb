{
 "cells": [
  {
   "cell_type": "markdown",
   "id": "54b04217-9c21-47ea-b400-9124f209e1dc",
   "metadata": {},
   "source": [
    "# Open Images Dataset V6 からのデータ取得"
   ]
  },
  {
   "cell_type": "markdown",
   "id": "669401a2-16b4-4684-9bde-5b45f9209fec",
   "metadata": {},
   "source": [
    "[![Open In Colab](https://colab.research.google.com/assets/colab-badge.svg)](https://colab.research.google.com/github/RyoWakabayashi/fiftyone-examples/blob/main/notebooks/download_open_image_v6.ipynb)"
   ]
  },
  {
   "cell_type": "markdown",
   "id": "62e10eda-76b9-4521-bc3f-56b6c69a7ace",
   "metadata": {},
   "source": [
    "## パッケージロード"
   ]
  },
  {
   "cell_type": "code",
   "execution_count": 2,
   "id": "eab0913b-6b4e-4832-8589-0a70ad236737",
   "metadata": {},
   "outputs": [],
   "source": [
    "# Google Colab では FiftyOne がインストールされていないので、追加する\n",
    "!pip install fiftyone"
   ]
  },
  {
   "cell_type": "code",
   "execution_count": 1,
   "id": "936ef78b-93b8-46ee-986f-25e8fcd4a994",
   "metadata": {},
   "outputs": [],
   "source": [
    "import fiftyone as fo\n",
    "import fiftyone.zoo as foz"
   ]
  },
  {
   "cell_type": "markdown",
   "id": "4cc0f04e-3ae3-4f80-908f-954827341c3a",
   "metadata": {},
   "source": [
    "## データ取得"
   ]
  },
  {
   "cell_type": "code",
   "execution_count": 2,
   "id": "32a6def5-68bc-4363-8352-c6e2dc76a488",
   "metadata": {},
   "outputs": [
    {
     "name": "stdout",
     "output_type": "stream",
     "text": [
      "Downloading split 'validation' to 'C:\\Users\\rwakabay\\fiftyone\\open-images-v6\\validation' if necessary\n",
      "Found 100 images, downloading the remaining 100\n",
      " 100% |██████████████████| 100/100 [20.4s elapsed, 0s remaining, 12.3 images/s]      \n",
      "Dataset info written to 'C:\\Users\\rwakabay\\fiftyone\\open-images-v6\\info.json'\n",
      "Loading 'open-images-v6' split 'validation'\n",
      " 100% |█████████████████| 200/200 [3.1s elapsed, 0s remaining, 78.8 samples/s]      \n",
      "Dataset 'open-images-v6-validation-200' created\n"
     ]
    }
   ],
   "source": [
    "# データセット名\n",
    "dataset_name = \"open-images-v6-cat-dog-duck\"\n",
    "\n",
    "# 未取得の場合、データセットZOOからダウンロードする\n",
    "# 取得済であればローカルからロードする\n",
    "if dataset_name in fo.list_datasets():\n",
    "    dataset = fo.load_dataset(dataset_name)\n",
    "else:\n",
    "    # 猫・犬・アヒルの画像と物体検出アノテーションデータを200件取得する\n",
    "    dataset = foz.load_zoo_dataset(\n",
    "        \"open-images-v6\",\n",
    "        split=\"validation\",\n",
    "        label_types=[\"detections\"],\n",
    "        classes=[\"Cat\", \"Dog\", \"Duck\"],\n",
    "        max_samples=200\n",
    "    )\n",
    "    dataset.name = dataset_name\n",
    "    # 永続化\n",
    "    dataset.persistent = True"
   ]
  },
  {
   "cell_type": "markdown",
   "id": "11e0306e-1161-447e-9ed1-30da6240186e",
   "metadata": {},
   "source": [
    "## データ表示"
   ]
  },
  {
   "cell_type": "code",
   "execution_count": 3,
   "id": "acc189f8-2d08-4a43-b72e-bb41cfca8b12",
   "metadata": {},
   "outputs": [
    {
     "data": {
      "text/html": [
       "\n",
       "        <iframe\n",
       "            width=\"100%\"\n",
       "            height=\"800\"\n",
       "            src=\"http://localhost:5151/?notebook=true&handleId=1d9ed344-278c-43af-9dea-1df2b44b1a57\"\n",
       "            frameborder=\"0\"\n",
       "            allowfullscreen\n",
       "            \n",
       "        ></iframe>\n",
       "        "
      ],
      "text/plain": [
       "<IPython.lib.display.IFrame at 0x27b1d1c47f0>"
      ]
     },
     "metadata": {},
     "output_type": "display_data"
    }
   ],
   "source": [
    "session = fo.launch_app(dataset)"
   ]
  },
  {
   "cell_type": "code",
   "execution_count": null,
   "id": "d9c22448-da6f-48a8-acb7-22f62086cd98",
   "metadata": {},
   "outputs": [],
   "source": []
  }
 ],
 "metadata": {
  "kernelspec": {
   "display_name": "Python 3 (ipykernel)",
   "language": "python",
   "name": "python3"
  },
  "language_info": {
   "codemirror_mode": {
    "name": "ipython",
    "version": 3
   },
   "file_extension": ".py",
   "mimetype": "text/x-python",
   "name": "python",
   "nbconvert_exporter": "python",
   "pygments_lexer": "ipython3",
   "version": "3.9.6"
  }
 },
 "nbformat": 4,
 "nbformat_minor": 5
}
